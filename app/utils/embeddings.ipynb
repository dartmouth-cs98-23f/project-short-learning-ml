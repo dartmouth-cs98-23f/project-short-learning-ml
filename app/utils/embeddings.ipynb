{
 "cells": [
  {
   "cell_type": "code",
   "execution_count": null,
   "metadata": {},
   "outputs": [],
   "source": [
    "import torch\n",
    "import os\n",
    "\n",
    "# https://www.youtube.com/watch?v=E5kzAbD8D0w, DPO\n",
    "# https://www.youtube.com/watch?v=wybjsKtA9hI, SQL Backend\n",
    "# https://www.youtube.com/watch?v=CZw57SIwgiE, Threads and Connections\n",
    "# https://www.youtube.com/watch?v=p6wwj0ozifw, Hashing\n",
    "# https://www.youtube.com/watch?v=4NB0NDtOwIQ, sys_design\n",
    "# https://www.youtube.com/watch?v=kxT8-C1vmd4, zig\n",
    "# https://www.youtube.com/watch?v=5C_HPTJg5ek, rust\n",
    "# https://www.youtube.com/watch?v=HyWYpM_S-2c, React\n",
    "# https://www.youtube.com/watch?v=MnpuK0MK4yo, react_svelte\n",
    "# https://www.youtube.com/watch?v=mE7IDf2SmJg, stanford_lecture_rag\n",
    "# https://www.youtube.com/watch?v=utYC2tKDdoQ, umich_os_locks\n",
    "# https://www.youtube.com/watch?v=YAgjfMR9R_M, umich_dl_attention\n",
    "# https://www.youtube.com/watch?v=dsHyUgGMht0, k_fang_github_break \n",
    "\n",
    "\n",
    "videos = [\n",
    "    [\"https://www.youtube.com/watch?v=UiX8K-xBUpE\", \"UiX8K-xBUpE\", \"mixtral8x7b\"],\n",
    "    [\"https://www.youtube.com/watch?v=Xdhe-meS30A\", \"Xdhe-meS30A\", \"catan\"],\n",
    "    [\"https://www.youtube.com/watch?v=00AQjBDM46Q\", \"00AQjBDM46Q\", \"mlops_llm_eval\"],\n",
    "    [\"https://www.youtube.com/watch?v=5ChkQKUzDCs\", \"5ChkQKUzDCs\", \"typescript_fireship\"],\n",
    "    [\"https://www.youtube.com/watch?v=J0NuOlA2xDc\", \"J0NuOlA2xDc\", \"localized_deployment\"],\n",
    "    [\"https://www.youtube.com/watch?v=E5kzAbD8D0w\", \"E5kzAbD8D0w\", \"dpo\"],\n",
    "    [\"https://www.youtube.com/watch?v=wybjsKtA9hI\", \"wybjsKtA9hI\", \"sql_backend\"],\n",
    "    [\"https://www.youtube.com/watch?v=CZw57SIwgiE\", \"CZw57SIwgiE\", \"threads_connections\"],\n",
    "    [\"https://www.youtube.com/watch?v=p6wwj0ozifw\", \"p6wwj0ozifw\", \"hashing\"],\n",
    "    # [\"https://www.youtube.com/watch?v=4NB0NDtOwIQ\", \"4NB0NDtOwIQ\", \"sys_design\"], // Note this failed due to not having a timestamp every line\n",
    "    [\"https://www.youtube.com/watch?v=kxT8-C1 vmd4\", \"kxT8-C1vmd4\", \"zig\"],\n",
    "    [\"https://www.youtube.com/watch?v=5C_HPTJg5ek\", \"5C_HPTJg5ek\", \"rust\"],\n",
    "    [\"https://www.youtube.com/watch?v=HyWYpM_S-2c\", \"HyWYpM_S-2c\", \"react\"],\n",
    "    [\"https://www.youtube.com/watch?v=MnpuK0MK4yo\", \"MnpuK0MK4yo\", \"react_svelte\"],\n",
    "]\n",
    "\n",
    "name_to_url = {\n",
    "    \"mixtral8x7b\": \"https://www.youtube.com/watch?v=UiX8K-xBUpE\",\n",
    "    \"catan\": \"https://www.youtube.com/watch?v=Xdhe-meS30A\",\n",
    "    \"mlops_llm_eval\": \"https://www.youtube.com/watch?v=00AQjBDM46Q\",\n",
    "    \"typescript_fireship\": \"https://www.youtube.com/watch?v=5ChkQKUzDCs\",\n",
    "    \"localized_deployment\": \"https://www.youtube.com/watch?v=J0NuOlA2xDc\",\n",
    "    \"dpo\": \"https://www.youtube.com/watch?v=E5kzAbD8D0w\",\n",
    "    \"sql_backend\": \"https://www.youtube.com/watch?v=wybjsKtA9hI\",\n",
    "    \"threads_connections\": \"https://www.youtube.com/watch?v=CZw57SIwgiE\",\n",
    "    \"hashing\": \"https://www.youtube.com/watch?v=p6wwj0ozifw\",\n",
    "    \"zig\": \"https://www.youtube.com/watch?v=kxT8-C1vmd4\",\n",
    "    \"rust\": \"https://www.youtube.com/watch?v=5C_HPTJg5ek\",\n",
    "    \"react\": \"https://www.youtube.com/watch?v=HyWYpM_S-2c\",\n",
    "    \"react_svelte\": \"https://www.youtube.com/watch?v=MnpuK0MK4yo\",\n",
    "}"
   ]
  },
  {
   "cell_type": "code",
   "execution_count": null,
   "metadata": {},
   "outputs": [],
   "source": [
    "from video import download_video\n",
    "from transcript import download_transcript\n",
    "\n",
    "# download_video('https://www.youtube.com/watch?v=Xdhe-meS30A', 'data/videos/video.mp4')\n",
    "for link, video_id, name in videos:\n",
    "    download_transcript(video_id, f'data/transcripts/raw/{name}.txt')\n",
    "    ## Clean\n",
    "    print(name)\n",
    "\n",
    "    with open(f'data/transcripts/raw/{name}.txt', 'r') as file:\n",
    "        with open(f'data/transcripts/clean/{name}.txt', 'w') as file_clean:\n",
    "            for i,line in enumerate(file):\n",
    "\n",
    "                line = line.split(',')[2]\n",
    "                ## Remove newline\n",
    "                line = line.replace('\\n', ' ')\n",
    "                if i != 0:\n",
    "                    file_clean.write(line)\n",
    "            "
   ]
  },
  {
   "cell_type": "code",
   "execution_count": null,
   "metadata": {},
   "outputs": [],
   "source": [
    "# Load model directly\n",
    "from transformers import AutoTokenizer, AutoModelForCausalLM\n",
    "\n",
    "tokenizer = AutoTokenizer.from_pretrained(\"mistralai/Mistral-7B-v0.1\")\n",
    "model = AutoModelForCausalLM.from_pretrained(\"mistralai/Mistral-7B-v0.1\")"
   ]
  },
  {
   "cell_type": "code",
   "execution_count": null,
   "metadata": {},
   "outputs": [],
   "source": [
    "\n",
    "# Prepare the input text and tokenize\n",
    "## read from transcript.txt\n",
    "# name, input\n",
    "inputs_dict = {}\n",
    "\n",
    "# open all files in data/transcripts/clean\n",
    "for file in os.listdir('data/transcripts/clean'):\n",
    "    with open(f'data/transcripts/clean/{file}') as f:\n",
    "        input_text = f.read()[0:4000]\n",
    "        inputs_dict[file[:-4]] = tokenizer(input_text, return_tensors=\"pt\")\n",
    "\n",
    "for name, inputs in inputs_dict.items():\n",
    "    print(f'Filename: {name}, Tokens: {len(inputs[0].tokens)}')"
   ]
  },
  {
   "cell_type": "code",
   "execution_count": null,
   "metadata": {},
   "outputs": [],
   "source": [
    "### catan.txt\n",
    "## Clean transcript, with new lines\n",
    "## Char: 9388, Word: 1840, Tokens: 2483, Runtime: 3m 4.2s on Pytorch MPS, T/S = 13.5\n",
    "\n",
    "## Clean transcript, no new lines\n",
    "## Char: 9388, Word: 1840, Tokens: 2174, Runtime: 2m 43.9s on Pytorch MPS, T/S = 13.25\n",
    "\n",
    "## Clean transcript, charging\n",
    "## Char: 9388, Word: 1840, Tokens: 2174, Runtime: 2m 32.8s on Pytorch MPS\n",
    "\n",
    "#### On A10s\n",
    "# 8,000-token limit for Mistral-7B\n",
    "\n",
    "### catan.txt\n",
    "## Tokens: 2174, Runtime: 48.8s, T/S = 44.55\n",
    "\n",
    "### mixtral8x7b.txt\n",
    "## Tokens: 16981, Runtime: 13m 8.4s, T/S = 21.59\n",
    "\n",
    "### mlops_llm_eval.txt\n",
    "## Tokens: 10993, Runtime: 7m 5.1s, T/S = 25.87\n",
    "\n",
    "### typescript_fireship.txt\n",
    "## Tokens: 1042, Runtime: 27.6s, T/S = 37.75\n",
    "\n",
    "### localized_deployment.txt | Tokens: 892,\n",
    "## A10 // Runtime: 21.6s, T/S = 41.3\n",
    "## M1  // Runtime:\n"
   ]
  },
  {
   "cell_type": "code",
   "execution_count": null,
   "metadata": {},
   "outputs": [],
   "source": [
    "output_dict = {}"
   ]
  },
  {
   "cell_type": "code",
   "execution_count": null,
   "metadata": {},
   "outputs": [],
   "source": [
    "# Generate the output\n",
    "# name = \"localized_deployment.txt\"\n",
    "for name in inputs_dict.keys():\n",
    "    inputs = inputs_dict[name]\n",
    "\n",
    "    if os.path.exists(f'data/embeddings/{name}.pt'):\n",
    "        continue\n",
    "    \n",
    "    with torch.no_grad():\n",
    "        outputs = model(**inputs, output_hidden_states=True)\n",
    "        output_dict[name] = outputs\n",
    "        torch.save(outputs.hidden_states[-1], f'data/embeddings/{name}.pt')"
   ]
  },
  {
   "cell_type": "code",
   "execution_count": null,
   "metadata": {},
   "outputs": [],
   "source": [
    "from pinecone import Pinecone\n",
    "\n",
    "pc = Pinecone(api_key=\"2fabebc4-406d-4935-8dbf-6952ce2d0e41\")\n",
    "index = pc.Index(\"inftest\")"
   ]
  },
  {
   "cell_type": "code",
   "execution_count": null,
   "metadata": {},
   "outputs": [],
   "source": [
    "vectors = []\n",
    "for embedding_file in os.listdir('data/embeddings'):\n",
    "    print(f'Embedding: {embedding_file}, Size: {os.path.getsize(f\"data/embeddings/{embedding_file}\")}')\n",
    "    name = embedding_file[:-3]\n",
    "    metadata = {\"name\": name, \"url\": name_to_url[name]}\n",
    "    tensor = torch.load(f'data/embeddings/{embedding_file}')\n",
    "    vectors.append((name, tensor.numpy().tolist(), metadata))\n"
   ]
  },
  {
   "cell_type": "code",
   "execution_count": null,
   "metadata": {},
   "outputs": [],
   "source": [
    "print(vectors[0])"
   ]
  },
  {
   "cell_type": "code",
   "execution_count": null,
   "metadata": {},
   "outputs": [],
   "source": [
    "index.upsert(vectors=[vectors[0]])"
   ]
  },
  {
   "cell_type": "code",
   "execution_count": null,
   "metadata": {},
   "outputs": [],
   "source": []
  }
 ],
 "metadata": {
  "kernelspec": {
   "display_name": "Python 3 (ipykernel)",
   "language": "python",
   "name": "python3"
  },
  "language_info": {
   "codemirror_mode": {
    "name": "ipython",
    "version": 3
   },
   "file_extension": ".py",
   "mimetype": "text/x-python",
   "name": "python",
   "nbconvert_exporter": "python",
   "pygments_lexer": "ipython3",
   "version": "3.10.13"
  }
 },
 "nbformat": 4,
 "nbformat_minor": 2
}
