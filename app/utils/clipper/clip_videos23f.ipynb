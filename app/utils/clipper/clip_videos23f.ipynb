{
 "cells": [
  {
   "cell_type": "markdown",
   "metadata": {},
   "source": [
    "# Technigala 23F Clipper"
   ]
  },
  {
   "cell_type": "code",
   "execution_count": 1,
   "metadata": {},
   "outputs": [],
   "source": [
    "import os\n",
    "from pprint import pprint \n",
    "from sklearn.preprocessing import LabelEncoder\n",
    "import ast\n",
    "import pandas as pd\n",
    "from random_clipper import clipper\n",
    "import ffmpeg\n",
    "import shutil"
   ]
  },
  {
   "cell_type": "code",
   "execution_count": 2,
   "metadata": {},
   "outputs": [],
   "source": [
    "data_dir = '../data/'\n",
    "transcripts_dir = 'transcripts/'\n",
    "videos_dir = 'videos/'\n",
    "output_dir = 'clips/'"
   ]
  },
  {
   "cell_type": "code",
   "execution_count": 3,
   "metadata": {},
   "outputs": [],
   "source": [
    "def trim_video(input_file, output_file, start_time, end_time):\n",
    "  (\n",
    "    ffmpeg.input(input_file, ss=start_time, to=end_time)\n",
    "    .output(output_file)\n",
    "    .run()\n",
    "  )"
   ]
  },
  {
   "cell_type": "code",
   "execution_count": 4,
   "metadata": {},
   "outputs": [],
   "source": [
    "transcript_path = data_dir+transcripts_dir\n",
    "video_path = data_dir+videos_dir\n",
    "output_path = data_dir+output_dir"
   ]
  },
  {
   "cell_type": "code",
   "execution_count": null,
   "metadata": {},
   "outputs": [],
   "source": [
    "# create clips dir\n",
    "os.makedirs(data_dir+output_dir)"
   ]
  },
  {
   "cell_type": "code",
   "execution_count": null,
   "metadata": {},
   "outputs": [],
   "source": [
    "# create desried dir format\n",
    "file_list = os.listdir(video_path)\n",
    "\n",
    "for filename in file_list:\n",
    "    # get the original .mp4 video path\n",
    "    full_video_path = os.path.join(video_path, filename)\n",
    "\n",
    "    # get the filename without extension\n",
    "    base_name = os.path.splitext(filename)[0]\n",
    "\n",
    "    # create a directory with the same name as the file\n",
    "    new_directory_path = os.path.join(output_path, base_name)\n",
    "\n",
    "    # check if the directory already exists, if not, create it\n",
    "    if not os.path.exists(new_directory_path):\n",
    "        os.makedirs(new_directory_path)\n",
    "\n",
    "    # Construct the new file path in the destination directory\n",
    "    new_file_path = os.path.join(new_directory_path, filename)\n",
    "\n",
    "    # Copy the file to the new directory\n",
    "    shutil.copy2(full_video_path, new_file_path)"
   ]
  },
  {
   "cell_type": "code",
   "execution_count": 6,
   "metadata": {},
   "outputs": [
    {
     "name": "stdout",
     "output_type": "stream",
     "text": [
      "playlist_Mathematics_Calculus_Integration_and_the_fundamental_theorem_of_calculus\n",
      "playlist_Arts&Crafts_Crocheting_Crochet_Duck_Tutorial_(No_Sewing!)\n",
      "playlist_Coffee_BrewingTechniques_The_Ultimate_V60_Technique\n",
      "playlist_HomeDesign_Landscaping_Impressive_Garden_|_GARDEN_|_Great_Home_Ideas\n",
      "playlist_SecondPunicWar_CrossingTheAlps_Across_the_Alps_218_BC_Hannibal_(Part_2)_-_Second_Punic_War\n",
      "playlist_Mathematics_Algebra_Inner_&_Outer_Semidirect_Products_Derivation_-_Group_Theory\n",
      "playlist_Mathematics_Logic_Sentential_Logic\n",
      "playlist_Arts&Crafts_Crocheting_How_to_Crochet_for_Absolute_Beginners:_Part_1\n",
      "playlist_Mathematics_Calculus_Calculus:_Derivatives_1\n",
      "playlist_Coffee_LatteArt_HOW_TO_STEAM_MILK_FOR_LATTE_ART\n",
      "playlist_Arts&Crafts_Embroidery_EMBROIDERY_101\n",
      "playlist_HomeDesign_Minimalism_5_Tips_For_A_Minimal_Space\n",
      "playlist_HomeDesign_KitchenDesign_3_Interior_Designers_Transform_The_Same_Galley_Kitchen\n",
      "playlist_Mathematics_Algebra_Group_Definition\n",
      "playlist_Coffee_CoffeeResearch_Surprising_And_Fascinating_Results_From_The_Taste_Test\n",
      "playlist_Coffee_BrewingTechniques_Immersion_Iced_Coffee:_A_Better_&_Easier_Technique\n",
      "playlist_HomeDesign_KitchenDesign_Studio_McGee_Spec_Home_Tour:_Sharing_All_of_the_Kitchen_and_Pantry_Details\n",
      "playlist_Mathematics_Logic_Incompleteness\n",
      "playlist_Cars_Maintenance_How_to_change_a_tire\n",
      "playlist_Arts&Crafts_Embroidery_4_Ways_To_Back_The_Embroidery_Hoop_|_Hand_Embroidery_101\n",
      "playlist_Cars_Engines_How_a_Car_Engine_Works\n",
      "playlist_Cars_SnowDrivingTips_How_to_Learn_to_Drive_In_the_Winter_on_Snow_and_Ice\n",
      "playlist_SecondPunicWar_CrossingTheAlps_Hannibal_Crosses_the_Alps_-_The_Invasion_of_Italy_-_The_Great_Carthaginian_General_-_Part_23\n",
      "playlist_Arts&Crafts_Origami_ORIGAMI_JUMPING_FROG_(Traditional_model)\n",
      "playlist_Cars_Maintenance_How_to_Change_Your_Oil_(COMPLETE_Guide)\n",
      "playlist_Coffee_CoffeeWorkflow_Boram_Um_—_2023_World_Barista_Championship:_Finals\n",
      "playlist_Arts&Crafts_Origami_Origami_Dragon\n",
      "playlist_HomeDesign_Minimalism_Warm_Minimalism_-_A_Pared-Back_Interior_With_Layers_&_Texture\n",
      "playlist_HomeDesign_Landscaping_How_To_Create_Your_Backyard_Landscape_Design\n",
      "playlist_Cars_Engines_Automatic_Transmission\n",
      "playlist_Cars_SnowDrivingTips_Everything_You_Need_To_Know_About_Driving_In_The_Snow\n"
     ]
    }
   ],
   "source": [
    "# list all files in the transcripts directory\n",
    "file_list = os.listdir(transcript_path)\n",
    "\n",
    "# create desried dir format\n",
    "for filename in file_list:\n",
    "    # get the filename without extension\n",
    "    base_name = os.path.splitext(filename)[0]\n",
    "\n",
    "    clips_dir = output_path + base_name + '/'\n",
    "    result = clipper(transcript_path+filename)\n",
    "\n",
    "    for i in range(len(result)):\n",
    "        start = result[i][0]\n",
    "        end = result[i][1]\n",
    "\n",
    "        # create dir just for this single clip\n",
    "        curr_clip = 'video_' + str(i)\n",
    "        curr_clip_dir = clips_dir + curr_clip\n",
    "\n",
    "        # check if the directory already exists, if not, create it\n",
    "        if not os.path.exists(curr_clip_dir):\n",
    "            os.makedirs(curr_clip_dir)\n",
    "        \n",
    "        # clip it\n",
    "        input_file = video_path+base_name+'.mp4'\n",
    "        output_file = curr_clip_dir+'/'+curr_clip+'.mp4'\n",
    "        if not os.path.exists(output_file):\n",
    "            trim_video(input_file, output_file, start, end)"
   ]
  }
 ],
 "metadata": {
  "kernelspec": {
   "display_name": "Python 3",
   "language": "python",
   "name": "python3"
  },
  "language_info": {
   "codemirror_mode": {
    "name": "ipython",
    "version": 3
   },
   "file_extension": ".py",
   "mimetype": "text/x-python",
   "name": "python",
   "nbconvert_exporter": "python",
   "pygments_lexer": "ipython3",
   "version": "3.10.11"
  },
  "orig_nbformat": 4
 },
 "nbformat": 4,
 "nbformat_minor": 2
}
