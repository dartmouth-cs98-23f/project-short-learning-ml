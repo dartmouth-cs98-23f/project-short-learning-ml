{
 "cells": [
  {
   "cell_type": "code",
   "execution_count": 1,
   "metadata": {},
   "outputs": [],
   "source": [
    "import os\n",
    "import ffmpeg"
   ]
  },
  {
   "cell_type": "code",
   "execution_count": null,
   "metadata": {},
   "outputs": [],
   "source": [
    "def convert_to_hls(input_file, output_file):\n",
    "    # ffmpeg command to convert to HLS format\n",
    "    (\n",
    "        ffmpeg.input(input_file)\n",
    "        .output(output_file, format='hls', hls_time=10, hls_list_size=0)\n",
    "        .run()\n",
    "    )"
   ]
  },
  {
   "cell_type": "code",
   "execution_count": null,
   "metadata": {},
   "outputs": [],
   "source": [
    "def process_directory(directory):\n",
    "    # Iterate through each file and subdirectory in the current directory\n",
    "    for item in os.listdir(directory):\n",
    "        item_path = os.path.join(directory, item)\n",
    "\n",
    "        # Check if the item is a directory\n",
    "        if os.path.isdir(item_path):\n",
    "            # If it's a directory, recursively process it\n",
    "            process_directory(item_path)\n",
    "\n",
    "        # Check if the item is an MP4 file\n",
    "        elif item.endswith('.mp4'):\n",
    "            # If it's an MP4 file, construct the output path for HLS and convert\n",
    "            output_path = os.path.splitext(item_path)[0] + '_output.m3u8'\n",
    "            convert_to_hls(item_path, output_path)"
   ]
  }
 ],
 "metadata": {
  "kernelspec": {
   "display_name": "Python 3",
   "language": "python",
   "name": "python3"
  },
  "language_info": {
   "codemirror_mode": {
    "name": "ipython",
    "version": 3
   },
   "file_extension": ".py",
   "mimetype": "text/x-python",
   "name": "python",
   "nbconvert_exporter": "python",
   "pygments_lexer": "ipython3",
   "version": "3.10.11"
  },
  "orig_nbformat": 4
 },
 "nbformat": 4,
 "nbformat_minor": 2
}
