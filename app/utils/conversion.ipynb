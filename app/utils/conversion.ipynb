{
 "cells": [
  {
   "cell_type": "markdown",
   "metadata": {},
   "source": [
    "# Converting videos to the desired HLS format\n",
    "\n",
    "Uses ffmpeg to convert input files to output files. Developed for Technigala 23F and will later need to be adapted as our ML pipeline is developed."
   ]
  },
  {
   "cell_type": "code",
   "execution_count": null,
   "metadata": {},
   "outputs": [],
   "source": [
    "import os\n",
    "import ffmpeg"
   ]
  },
  {
   "cell_type": "code",
   "execution_count": null,
   "metadata": {},
   "outputs": [],
   "source": [
    "def convert_to_hls(input_file, output_file):\n",
    "    # ffmpeg command to convert to HLS format\n",
    "    (\n",
    "        ffmpeg.input(input_file)\n",
    "        .output(output_file, format='hls', hls_time=10, hls_list_size=0)\n",
    "        .run()\n",
    "    )"
   ]
  },
  {
   "cell_type": "code",
   "execution_count": null,
   "metadata": {},
   "outputs": [],
   "source": [
    "def process_directory(directory):\n",
    "    i = 0\n",
    "    # Iterate through each file and subdirectory in the current directory\n",
    "    for item in os.listdir(directory):\n",
    "        item_path = os.path.join(directory, item)\n",
    "\n",
    "        # Check if the item is a directory\n",
    "        if os.path.isdir(item_path):\n",
    "            # If it's a directory, recursively process it\n",
    "            process_directory(item_path)\n",
    "\n",
    "        # Check if the item is an MP4 file\n",
    "        elif item.endswith('.mp4') and item.startswith('video_'):\n",
    "            # If it's an MP4 file, construct the output path for HLS and convert\n",
    "            output_path = os.path.splitext(item_path)[0] + '_.m3u8'\n",
    "            convert_to_hls(item_path, output_path)\n",
    "            i += 1\n"
   ]
  },
  {
   "cell_type": "code",
   "execution_count": null,
   "metadata": {},
   "outputs": [],
   "source": [
    "dir = './data/clips/'\n",
    "process_directory(dir)"
   ]
  }
 ],
 "metadata": {
  "language_info": {
   "name": "python"
  }
 },
 "nbformat": 4,
 "nbformat_minor": 2
}
