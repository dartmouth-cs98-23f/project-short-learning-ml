{
 "cells": [
  {
   "cell_type": "code",
   "execution_count": 8,
   "metadata": {},
   "outputs": [],
   "source": [
    "import pandas as pd\n",
    "import random"
   ]
  },
  {
   "cell_type": "code",
   "execution_count": 23,
   "metadata": {},
   "outputs": [
    {
     "data": {
      "text/html": [
       "<div>\n",
       "<style scoped>\n",
       "    .dataframe tbody tr th:only-of-type {\n",
       "        vertical-align: middle;\n",
       "    }\n",
       "\n",
       "    .dataframe tbody tr th {\n",
       "        vertical-align: top;\n",
       "    }\n",
       "\n",
       "    .dataframe thead th {\n",
       "        text-align: right;\n",
       "    }\n",
       "</style>\n",
       "<table border=\"1\" class=\"dataframe\">\n",
       "  <thead>\n",
       "    <tr style=\"text-align: right;\">\n",
       "      <th></th>\n",
       "      <th>Article</th>\n",
       "    </tr>\n",
       "  </thead>\n",
       "  <tbody>\n",
       "    <tr>\n",
       "      <th>0</th>\n",
       "      <td>In the Washington of 2016, even when the polic...</td>\n",
       "    </tr>\n",
       "    <tr>\n",
       "      <th>1</th>\n",
       "      <td>Donald Trump has used Twitter  —   his prefe...</td>\n",
       "    </tr>\n",
       "    <tr>\n",
       "      <th>2</th>\n",
       "      <td>Donald Trump is unabashedly praising Russian...</td>\n",
       "    </tr>\n",
       "    <tr>\n",
       "      <th>3</th>\n",
       "      <td>Updated at 2:50 p. m. ET, Russian President Vl...</td>\n",
       "    </tr>\n",
       "    <tr>\n",
       "      <th>4</th>\n",
       "      <td>From photography, illustration and video, to d...</td>\n",
       "    </tr>\n",
       "  </tbody>\n",
       "</table>\n",
       "</div>"
      ],
      "text/plain": [
       "                                             Article\n",
       "0  In the Washington of 2016, even when the polic...\n",
       "1    Donald Trump has used Twitter  —   his prefe...\n",
       "2    Donald Trump is unabashedly praising Russian...\n",
       "3  Updated at 2:50 p. m. ET, Russian President Vl...\n",
       "4  From photography, illustration and video, to d..."
      ]
     },
     "execution_count": 23,
     "metadata": {},
     "output_type": "execute_result"
    }
   ],
   "source": [
    "df = pd.read_csv('npr.csv')\n",
    "npr = pd.read_csv('npr.csv')\n",
    "df.head()"
   ]
  },
  {
   "cell_type": "code",
   "execution_count": 17,
   "metadata": {},
   "outputs": [
    {
     "data": {
      "text/html": [
       "<style>#sk-container-id-2 {color: black;}#sk-container-id-2 pre{padding: 0;}#sk-container-id-2 div.sk-toggleable {background-color: white;}#sk-container-id-2 label.sk-toggleable__label {cursor: pointer;display: block;width: 100%;margin-bottom: 0;padding: 0.3em;box-sizing: border-box;text-align: center;}#sk-container-id-2 label.sk-toggleable__label-arrow:before {content: \"▸\";float: left;margin-right: 0.25em;color: #696969;}#sk-container-id-2 label.sk-toggleable__label-arrow:hover:before {color: black;}#sk-container-id-2 div.sk-estimator:hover label.sk-toggleable__label-arrow:before {color: black;}#sk-container-id-2 div.sk-toggleable__content {max-height: 0;max-width: 0;overflow: hidden;text-align: left;background-color: #f0f8ff;}#sk-container-id-2 div.sk-toggleable__content pre {margin: 0.2em;color: black;border-radius: 0.25em;background-color: #f0f8ff;}#sk-container-id-2 input.sk-toggleable__control:checked~div.sk-toggleable__content {max-height: 200px;max-width: 100%;overflow: auto;}#sk-container-id-2 input.sk-toggleable__control:checked~label.sk-toggleable__label-arrow:before {content: \"▾\";}#sk-container-id-2 div.sk-estimator input.sk-toggleable__control:checked~label.sk-toggleable__label {background-color: #d4ebff;}#sk-container-id-2 div.sk-label input.sk-toggleable__control:checked~label.sk-toggleable__label {background-color: #d4ebff;}#sk-container-id-2 input.sk-hidden--visually {border: 0;clip: rect(1px 1px 1px 1px);clip: rect(1px, 1px, 1px, 1px);height: 1px;margin: -1px;overflow: hidden;padding: 0;position: absolute;width: 1px;}#sk-container-id-2 div.sk-estimator {font-family: monospace;background-color: #f0f8ff;border: 1px dotted black;border-radius: 0.25em;box-sizing: border-box;margin-bottom: 0.5em;}#sk-container-id-2 div.sk-estimator:hover {background-color: #d4ebff;}#sk-container-id-2 div.sk-parallel-item::after {content: \"\";width: 100%;border-bottom: 1px solid gray;flex-grow: 1;}#sk-container-id-2 div.sk-label:hover label.sk-toggleable__label {background-color: #d4ebff;}#sk-container-id-2 div.sk-serial::before {content: \"\";position: absolute;border-left: 1px solid gray;box-sizing: border-box;top: 0;bottom: 0;left: 50%;z-index: 0;}#sk-container-id-2 div.sk-serial {display: flex;flex-direction: column;align-items: center;background-color: white;padding-right: 0.2em;padding-left: 0.2em;position: relative;}#sk-container-id-2 div.sk-item {position: relative;z-index: 1;}#sk-container-id-2 div.sk-parallel {display: flex;align-items: stretch;justify-content: center;background-color: white;position: relative;}#sk-container-id-2 div.sk-item::before, #sk-container-id-2 div.sk-parallel-item::before {content: \"\";position: absolute;border-left: 1px solid gray;box-sizing: border-box;top: 0;bottom: 0;left: 50%;z-index: -1;}#sk-container-id-2 div.sk-parallel-item {display: flex;flex-direction: column;z-index: 1;position: relative;background-color: white;}#sk-container-id-2 div.sk-parallel-item:first-child::after {align-self: flex-end;width: 50%;}#sk-container-id-2 div.sk-parallel-item:last-child::after {align-self: flex-start;width: 50%;}#sk-container-id-2 div.sk-parallel-item:only-child::after {width: 0;}#sk-container-id-2 div.sk-dashed-wrapped {border: 1px dashed gray;margin: 0 0.4em 0.5em 0.4em;box-sizing: border-box;padding-bottom: 0.4em;background-color: white;}#sk-container-id-2 div.sk-label label {font-family: monospace;font-weight: bold;display: inline-block;line-height: 1.2em;}#sk-container-id-2 div.sk-label-container {text-align: center;}#sk-container-id-2 div.sk-container {/* jupyter's `normalize.less` sets `[hidden] { display: none; }` but bootstrap.min.css set `[hidden] { display: none !important; }` so we also need the `!important` here to be able to override the default hidden behavior on the sphinx rendered scikit-learn.org. See: https://github.com/scikit-learn/scikit-learn/issues/21755 */display: inline-block !important;position: relative;}#sk-container-id-2 div.sk-text-repr-fallback {display: none;}</style><div id=\"sk-container-id-2\" class=\"sk-top-container\"><div class=\"sk-text-repr-fallback\"><pre>LatentDirichletAllocation(n_components=30, random_state=42)</pre><b>In a Jupyter environment, please rerun this cell to show the HTML representation or trust the notebook. <br />On GitHub, the HTML representation is unable to render, please try loading this page with nbviewer.org.</b></div><div class=\"sk-container\" hidden><div class=\"sk-item\"><div class=\"sk-estimator sk-toggleable\"><input class=\"sk-toggleable__control sk-hidden--visually\" id=\"sk-estimator-id-2\" type=\"checkbox\" checked><label for=\"sk-estimator-id-2\" class=\"sk-toggleable__label sk-toggleable__label-arrow\">LatentDirichletAllocation</label><div class=\"sk-toggleable__content\"><pre>LatentDirichletAllocation(n_components=30, random_state=42)</pre></div></div></div></div></div>"
      ],
      "text/plain": [
       "LatentDirichletAllocation(n_components=30, random_state=42)"
      ]
     },
     "execution_count": 17,
     "metadata": {},
     "output_type": "execute_result"
    }
   ],
   "source": [
    "from sklearn.feature_extraction.text import CountVectorizer\n",
    "cv = CountVectorizer(max_df=0.95, min_df=2, stop_words='english')\n",
    "dtm = cv.fit_transform(df['Article'])\n",
    "\n",
    "from sklearn.decomposition import LatentDirichletAllocation\n",
    "LDA = LatentDirichletAllocation(n_components=30,random_state=42)\n",
    "LDA.fit(dtm)"
   ]
  },
  {
   "cell_type": "code",
   "execution_count": 6,
   "metadata": {},
   "outputs": [
    {
     "data": {
      "text/plain": [
       "54777"
      ]
     },
     "execution_count": 6,
     "metadata": {},
     "output_type": "execute_result"
    }
   ],
   "source": [
    "len(cv.get_feature_names_out())"
   ]
  },
  {
   "cell_type": "code",
   "execution_count": 18,
   "metadata": {},
   "outputs": [
    {
     "name": "stdout",
     "output_type": "stream",
     "text": [
      "animalistic\n",
      "inslee\n",
      "joel\n",
      "hometowns\n",
      "tape\n",
      "paneled\n",
      "chisholm\n",
      "debating\n",
      "modernism\n",
      "octopus\n",
      "pinckney\n",
      "joust\n",
      "descriptive\n",
      "wemple\n",
      "derelict\n",
      "fwd\n",
      "undeserving\n",
      "forceful\n",
      "insubordination\n",
      "calendar\n"
     ]
    }
   ],
   "source": [
    "for i in range(10):\n",
    "    random_word_id = random.randint(0,54776)\n",
    "    print(cv.get_feature_names_out()[random_word_id])\n",
    "\n",
    "for i in range(10):\n",
    "    random_word_id = random.randint(0,54776)\n",
    "    print(cv.get_feature_names_out()[random_word_id])"
   ]
  },
  {
   "cell_type": "code",
   "execution_count": 19,
   "metadata": {},
   "outputs": [
    {
     "data": {
      "text/plain": [
       "array([25562,  7572,  8675, 21150, 54403, 12225, 10421, 31464, 42561,\n",
       "       10425])"
      ]
     },
     "execution_count": 19,
     "metadata": {},
     "output_type": "execute_result"
    }
   ],
   "source": [
    "len(LDA.components_)\n",
    "len(LDA.components_[0])\n",
    "\n",
    "single_topic = LDA.components_[0]\n",
    "# Returns the indices that would sort this array.\n",
    "single_topic.argsort()\n",
    "# Word least representative of this topic\n",
    "single_topic[18302]\n",
    "# Word most representative of this topic\n",
    "single_topic[42993]\n",
    "# Top 10 words for this topic:\n",
    "single_topic.argsort()[-10:]"
   ]
  },
  {
   "cell_type": "code",
   "execution_count": 20,
   "metadata": {},
   "outputs": [
    {
     "name": "stdout",
     "output_type": "stream",
     "text": [
      "internet\n",
      "business\n",
      "ceo\n",
      "google\n",
      "year\n",
      "cuba\n",
      "companies\n",
      "million\n",
      "said\n",
      "company\n"
     ]
    }
   ],
   "source": [
    "top_word_indices = single_topic.argsort()[-10:]\n",
    "for index in top_word_indices:\n",
    "    print(cv.get_feature_names_out()[index])"
   ]
  },
  {
   "cell_type": "code",
   "execution_count": 21,
   "metadata": {},
   "outputs": [
    {
     "name": "stdout",
     "output_type": "stream",
     "text": [
      "THE TOP 15 WORDS FOR TOPIC #0\n",
      "['new', 'online', 'bank', 'employees', 'la', 'internet', 'business', 'ceo', 'google', 'year', 'cuba', 'companies', 'million', 'said', 'company']\n",
      "\n",
      "\n",
      "THE TOP 15 WORDS FOR TOPIC #1\n",
      "['weapons', 'american', 'putin', 'obama', 'war', 'president', 'afghanistan', 'russian', 'syria', 'saudi', 'nuclear', 'iran', 'said', 'russia', 'military']\n",
      "\n",
      "\n",
      "THE TOP 15 WORDS FOR TOPIC #2\n",
      "['called', 'way', 'world', 'sound', 'york', 'park', 'life', 'prince', 'just', 'time', 'years', 'says', 'music', 'like', 'new']\n",
      "\n",
      "\n",
      "THE TOP 15 WORDS FOR TOPIC #3\n",
      "['novel', 'drivers', 'new', 'life', 'family', 'stories', 'movie', 'india', 'story', 'like', 'women', 'uber', 'world', 'says', 'film']\n",
      "\n",
      "\n",
      "THE TOP 15 WORDS FOR TOPIC #4\n",
      "['religious', 'ban', 'judge', 'legal', 'church', 'said', 'case', 'immigration', 'order', 'people', 'rights', 'state', 'law', 'court', 'says']\n",
      "\n",
      "\n",
      "THE TOP 15 WORDS FOR TOPIC #5\n",
      "['musical', 'jazz', 'love', 'npr', 'year', 'artists', 'record', 'just', 'new', 'like', 'band', 'songs', 'album', 'song', 'music']\n",
      "\n",
      "\n",
      "THE TOP 15 WORDS FOR TOPIC #6\n",
      "['high', 'program', 'child', 'university', 'teachers', 'college', 'parents', 'student', 'kids', 'children', 'says', 'schools', 'education', 'students', 'school']\n",
      "\n",
      "\n",
      "THE TOP 15 WORDS FOR TOPIC #7\n",
      "['japan', 'cosby', 'international', 'beijing', 'countries', 'says', 'said', 'kim', 'korean', 'trade', 'south', 'korea', 'north', 'chinese', 'china']\n",
      "\n",
      "\n",
      "THE TOP 15 WORDS FOR TOPIC #8\n",
      "['make', 'years', 'pay', 'year', 'workers', 'just', 'new', 'jobs', 'tax', 'like', 'money', 'food', 'percent', 'people', 'says']\n",
      "\n",
      "\n",
      "THE TOP 15 WORDS FOR TOPIC #9\n",
      "['sports', 'gold', 'game', 'olympics', 'world', 'israeli', 'puerto', 'players', 'rio', 'athletes', 'olympic', 'israel', 'games', 'women', 'team']\n",
      "\n",
      "\n",
      "THE TOP 15 WORDS FOR TOPIC #10\n",
      "['iowa', 'delegates', 'gop', 'party', 'won', 'win', 'republican', 'percent', 'new', 'vote', 'states', 'cruz', 'voters', 'trump', 'state']\n",
      "\n",
      "\n",
      "THE TOP 15 WORDS FOR TOPIC #11\n",
      "['000', 'local', 'group', 'like', 'just', 'children', 'isis', 'years', 'town', 'home', 'day', 'women', 'people', 'city', 'says']\n",
      "\n",
      "\n",
      "THE TOP 15 WORDS FOR TOPIC #12\n",
      "['year', 'space', 'earth', 'scientists', 'change', 'science', 'time', 'world', 'just', 'climate', 'new', 'years', 'like', 'water', 'says']\n",
      "\n",
      "\n",
      "THE TOP 15 WORDS FOR TOPIC #13\n",
      "['birth', 'mosquitoes', 'new', 'outbreak', 'pregnant', 'spread', 'vaccine', 'women', 'cases', 'people', 'health', 'disease', 'virus', 'zika', 'says']\n",
      "\n",
      "\n",
      "THE TOP 15 WORDS FOR TOPIC #14\n",
      "['cats', 'crew', 'airport', 'united', 'time', 'airline', 'flights', 'space', 'mars', 'planet', 'passengers', 'airlines', 'tea', 'plane', 'flight']\n",
      "\n",
      "\n",
      "THE TOP 15 WORDS FOR TOPIC #15\n",
      "['crew', 'celiac', 'nursing', 'candy', 'conflicts', 'cakes', 'shaub', 'says', 'gray', 'white', 'baltimore', 'pie', 'oge', 'cake', 'ethics']\n",
      "\n",
      "\n",
      "THE TOP 15 WORDS FOR TOPIC #16\n",
      "['history', 'word', 'taste', 'cook', 'world', 'way', 'make', 'just', 'new', 'book', 'time', 'says', 'game', 'food', 'like']\n",
      "\n",
      "\n",
      "THE TOP 15 WORDS FOR TOPIC #17\n",
      "['rock', 'federal', 'energy', 'people', 'construction', 'marijuana', 'tribe', 'said', 'dakota', 'land', 'native', 'gas', 'pipeline', 'says', 'oil']\n",
      "\n",
      "\n",
      "THE TOP 15 WORDS FOR TOPIC #18\n",
      "['lot', 'want', 'things', 've', 'way', 'time', 'going', 'don', 'really', 'know', 'think', 'says', 'just', 'people', 'like']\n",
      "\n",
      "\n",
      "THE TOP 15 WORDS FOR TOPIC #19\n",
      "['war', 'children', 'aleppo', 'reported', 'government', 'according', 'syria', 'food', 'aid', 'reports', '000', 'says', 'said', 'syrian', 'people']\n",
      "\n",
      "\n",
      "THE TOP 15 WORDS FOR TOPIC #20\n",
      "['act', 'congress', 'republican', 'democrats', 'percent', 'house', 'president', 'law', 'people', 'care', 'court', 'health', 'republicans', 'senate', 'said']\n",
      "\n",
      "\n",
      "THE TOP 15 WORDS FOR TOPIC #21\n",
      "['office', 'investigation', 'did', 'donald', 'committee', 'new', 'comey', 'told', 'campaign', 'news', 'white', 'house', 'president', 'said', 'trump']\n",
      "\n",
      "\n",
      "THE TOP 15 WORDS FOR TOPIC #22\n",
      "['cancer', 'drugs', 'hospital', 'study', 'treatment', 'doctors', 'said', 'percent', 'drug', 'medical', 'patients', 'people', 'care', 'says', 'health']\n",
      "\n",
      "\n",
      "THE TOP 15 WORDS FOR TOPIC #23\n",
      "['animals', 'way', 'scientists', 'new', 'like', 'use', 'science', 'researchers', 'university', 'human', 'research', 'brain', 'people', 'study', 'says']\n",
      "\n",
      "\n",
      "THE TOP 15 WORDS FOR TOPIC #24\n",
      "['best', 'race', 'books', 'art', 'story', 'movie', 'year', 'new', 'book', 'like', 'series', 'tv', 'says', 'white', 'black']\n",
      "\n",
      "\n",
      "THE TOP 15 WORDS FOR TOPIC #25\n",
      "['years', 'party', 'state', 'american', 'trump', 'countries', 'united', 'world', 'war', 'government', 'political', 'said', 'people', 'country', 'president']\n",
      "\n",
      "\n",
      "THE TOP 15 WORDS FOR TOPIC #26\n",
      "['democratic', 'voters', 'party', 'people', 'presidential', 'president', 'election', 'donald', 'obama', 'sanders', 'hillary', 'campaign', 'said', 'trump', 'clinton']\n",
      "\n",
      "\n",
      "THE TOP 15 WORDS FOR TOPIC #27\n",
      "['federal', 'drug', 'according', 'people', 'time', 'va', 'prisoners', 'inmates', 'told', 'government', 'years', 'veterans', 'says', 'said', 'prison']\n",
      "\n",
      "\n",
      "THE TOP 15 WORDS FOR TOPIC #28\n",
      "['states', 'public', 'new', 'officials', 'agency', 'administration', 'security', 'information', 'law', 'department', 'state', 'government', 'federal', 'says', 'said']\n",
      "\n",
      "\n",
      "THE TOP 15 WORDS FOR TOPIC #29\n",
      "['npr', 'city', 'according', 'shooting', 'violence', 'man', 'says', 'reports', 'officers', 'killed', 'attack', 'told', 'people', 'said', 'police']\n",
      "\n",
      "\n"
     ]
    }
   ],
   "source": [
    "for index,topic in enumerate(LDA.components_):\n",
    "    print(f'THE TOP 15 WORDS FOR TOPIC #{index}')\n",
    "    print([cv.get_feature_names_out()[i] for i in topic.argsort()[-15:]])\n",
    "    print('\\n')"
   ]
  },
  {
   "cell_type": "code",
   "execution_count": 24,
   "metadata": {},
   "outputs": [],
   "source": [
    "topic_results = LDA.transform(dtm)\n",
    "npr['Topic'] = topic_results.argmax(axis=1)"
   ]
  }
 ],
 "metadata": {
  "kernelspec": {
   "display_name": "Python 3",
   "language": "python",
   "name": "python3"
  },
  "language_info": {
   "codemirror_mode": {
    "name": "ipython",
    "version": 3
   },
   "file_extension": ".py",
   "mimetype": "text/x-python",
   "name": "python",
   "nbconvert_exporter": "python",
   "pygments_lexer": "ipython3",
   "version": "3.10.11"
  },
  "orig_nbformat": 4
 },
 "nbformat": 4,
 "nbformat_minor": 2
}
